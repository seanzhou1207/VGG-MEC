{
 "cells": [
  {
   "cell_type": "code",
   "execution_count": 5,
   "metadata": {},
   "outputs": [],
   "source": [
    "import torch\n",
    "import torch.nn as nn\n",
    "\n",
    "from torchvision import datasets, transforms"
   ]
  },
  {
   "cell_type": "markdown",
   "metadata": {},
   "source": [
    "## ConvNet Configuration A "
   ]
  },
  {
   "cell_type": "code",
   "execution_count": 3,
   "metadata": {},
   "outputs": [],
   "source": [
    "class VGG11_configuration_A(nn.Module):\n",
    "    def __init__(self,in_channels,num_clasees=10):\n",
    "        super(VGG11_configuration_A,self).__init__()\n",
    "        self.in_channels = in_channels\n",
    "        self.num_clasees = num_clasees \n",
    "        \n",
    "        self.conv_layers = nn.Sequential(\n",
    "            #(batch_size,3,32,32) --> (batch_size,64,32,32)\n",
    "            nn.Conv2d(in_channels=self.in_channels,out_channels=64,kernel_size=3,padding=1),\n",
    "            nn.ReLU(),\n",
    "            #(batch_size,64,32,32) --> (batch_size,64,16,16) \n",
    "            nn.MaxPool2d(kernel_size=2,stride=2),\n",
    "            #(batch_size,64,16,16) --> (batch_size,128,16,16)\n",
    "            nn.Conv2d(in_channels=64,out_channels=128,kernel_size=3,padding=1),\n",
    "            nn.ReLU(),\n",
    "            #(batch_size,128,16,16) --> (batch_size,128,8,8)\n",
    "            nn.MaxPool2d(kernel_size=2,stride=2),\n",
    "            #(batch_size,128,8,8) --> (batch_size,256,8,8)\n",
    "            nn.Conv2d(in_channels=128,out_channels=256,kernel_size=3,padding=1),\n",
    "            nn.ReLU(),\n",
    "            nn.Conv2d(in_channels=256,out_channels=256,kernel_size=3,padding=1),\n",
    "            nn.ReLU(),\n",
    "            #(batch_size,256,8,8) --> (batch_size,256,4,4)\n",
    "            nn.MaxPool2d(kernel_size=2,stride=2),\n",
    "            #(batch_size,256,4,4) --> (batch_size,512,4,4)\n",
    "            nn.Conv2d(in_channels=256,out_channels=512,kernel_size=3,padding=1),\n",
    "            nn.ReLU(),\n",
    "            #(batch_size,512,4,4) --> (batch_size,512,4,4)\n",
    "            nn.Conv2d(in_channels=512,out_channels=512,kernel_size=3,padding=1),\n",
    "            nn.ReLU(),\n",
    "            #(batch_size,512,4,4) --> (batch_size,512,2,2)\n",
    "            nn.MaxPool2d(kernel_size=2,stride=2),\n",
    "            #(batch_size,512,2,2) --> (batch_size,512,2,2)\n",
    "            nn.Conv2d(in_channels=512,out_channels=512,kernel_size=3,padding=1),\n",
    "            nn.ReLU(),\n",
    "            #(batch_size,512,2,2) --> (batch_size,512,2,2)\n",
    "            nn.Conv2d(in_channels=512,out_channels=512,kernel_size=3,padding=1),\n",
    "            nn.ReLU(),\n",
    "            #(batch_size,512,2,2) --> (batch_size,512,1,1)\n",
    "            nn.MaxPool2d(kernel_size=2,stride=2)\n",
    "        )\n",
    "        self.linear_layers = nn.Sequential(\n",
    "            nn.Linear(512*1*1,4096),\n",
    "            nn.ReLU(),\n",
    "            nn.Dropout2d(0.5),\n",
    "            nn.Linear(4096,4096),\n",
    "            nn.ReLU(),\n",
    "            nn.Dropout2d(0.5),\n",
    "            nn.Linear(4096,self.num_clasees)\n",
    "        )\n",
    "        \n",
    "    def forward(self,x):\n",
    "        #(batch_size,3,32,32) --> (batch_size,512,1,1)\n",
    "        conv = self.conv_layers(x)\n",
    "        #(batch_size,512,1,1) --> (batch_size,10)\n",
    "        conv = conv.view(conv.size(0),-1)\n",
    "        conv = self.linear_layers(conv)\n",
    "        return conv "
   ]
  },
  {
   "cell_type": "code",
   "execution_count": 4,
   "metadata": {},
   "outputs": [
    {
     "name": "stdout",
     "output_type": "stream",
     "text": [
      "[INFO]: 132,863,336 total parameters.\n"
     ]
    }
   ],
   "source": [
    "model = VGG11_configuration_A(in_channels=3,num_clasees=1000)\n",
    "total_params = sum(p.numel() for p in model.parameters())\n",
    "print(f\"[INFO]: {total_params:,} total parameters.\")"
   ]
  },
  {
   "cell_type": "markdown",
   "metadata": {},
   "source": [
    "# ConvNet Configuration A-LRN"
   ]
  },
  {
   "cell_type": "code",
   "execution_count": 8,
   "metadata": {},
   "outputs": [],
   "source": [
    "class VGG11_configuration_A_LRN(nn.Module):\n",
    "    def __init__(self,in_channels,num_clasees=1000):\n",
    "        super(VGG11_configuration_A_LRN,self).__init__()\n",
    "        self.in_channels = in_channels\n",
    "        self.num_clasees = num_clasees \n",
    "        self.conv_layers = nn.Sequential(\n",
    "            #(batch_size,3,224,224) --> (batch_size,64,224,224)\n",
    "            nn.Conv2d(in_channels=self.in_channels,out_channels=64,kernel_size=3,padding=1),\n",
    "            nn.ReLU(),\n",
    "            nn.LocalResponseNorm(size=5,alpha=0.0001,beta=0.75,k=2),\n",
    "            #(batch_size,64,224,224) --> (batch_size,64,112,112)\n",
    "            nn.MaxPool2d(kernel_size=2,stride=2),\n",
    "            #(batch_size,64,112,112) --> (batch_size,128,112,112)\n",
    "            nn.Conv2d(in_channels=64,out_channels=128,kernel_size=3,padding=1),\n",
    "            nn.ReLU(),\n",
    "            nn.MaxPool2d(kernel_size=2,stride=2),\n",
    "            #(batch_size,128,56,56) --> (batch_size,256,56,56)\n",
    "            nn.Conv2d(in_channels=128,out_channels=256,kernel_size=3,padding=1),\n",
    "            nn.ReLU(),\n",
    "            nn.Conv2d(in_channels=256,out_channels=256,kernel_size=3,padding=1),\n",
    "            nn.ReLU(),\n",
    "            #(batch_size,256,56,56) --> (batch_size,256,28,28)\n",
    "            nn.MaxPool2d(kernel_size=2,stride=2),\n",
    "            #(batch_size,256,28,28) --> (batch_size,512,28,28)\n",
    "            nn.Conv2d(in_channels=256,out_channels=512,kernel_size=3,padding=1),\n",
    "            nn.ReLU(),\n",
    "            #(batch_size,512,28,28) --> (batch_size,512,28,28)\n",
    "            nn.Conv2d(in_channels=512,out_channels=512,kernel_size=3,padding=1),\n",
    "            nn.ReLU(),\n",
    "            #(batch_size,512,28,28) --> (batch_size,512,14,14)\n",
    "            nn.MaxPool2d(kernel_size=2,stride=2),\n",
    "            #(batch_size,512,14,14) --> (batch_size,512,14,14)\n",
    "            nn.Conv2d(in_channels=512,out_channels=512,kernel_size=3,padding=1),\n",
    "            nn.ReLU(),\n",
    "            #(batch_size,512,14,14) --> (batch_size,512,14,14)\n",
    "            nn.Conv2d(in_channels=512,out_channels=512,kernel_size=3,padding=1),\n",
    "            nn.ReLU(),\n",
    "            #(batch_size,512,14,14) --> (batch_size,512,7,7)\n",
    "            nn.MaxPool2d(kernel_size=2,stride=2)\n",
    "        )\n",
    "        self.linear_layers = nn.Sequential(\n",
    "            nn.Linear(512*1*1,4096),\n",
    "            nn.ReLU(),\n",
    "            nn.Dropout2d(0.5),\n",
    "            nn.Linear(4096,4096),\n",
    "            nn.ReLU(),\n",
    "            nn.Dropout2d(0.5),\n",
    "            nn.Linear(4096,self.num_clasees)\n",
    "        )\n",
    "    \n",
    "    def forward(self,x):\n",
    "        #(batch_size,3,224,224) --> (batch_size,512,7,7)\n",
    "        conv = self.conv_layers(x)\n",
    "        #(batch_size,512,7,7) --> (batch_size,1000)\n",
    "        conv = conv.view(conv.size(0),-1)\n",
    "        conv = self.linear_layers(conv)\n",
    "        return conv"
   ]
  },
  {
   "cell_type": "code",
   "execution_count": 9,
   "metadata": {},
   "outputs": [
    {
     "name": "stdout",
     "output_type": "stream",
     "text": [
      "[INFO]: 132,863,336 total parameters.\n"
     ]
    }
   ],
   "source": [
    "model = VGG11_configuration_A_LRN(in_channels=3,num_clasees=1000)\n",
    "total_params = sum(p.numel() for p in model.parameters())\n",
    "print(f\"[INFO]: {total_params:,} total parameters.\")"
   ]
  },
  {
   "cell_type": "markdown",
   "metadata": {},
   "source": [
    "# ConvNet Configuration B"
   ]
  },
  {
   "cell_type": "code",
   "execution_count": 17,
   "metadata": {},
   "outputs": [],
   "source": [
    "class VGG11_configucration_B(nn.Module):\n",
    "    def __init__(self,in_channels,num_classes=1000):\n",
    "        super(VGG11_configucration_B,self).__init__()\n",
    "        self.in_channels = in_channels\n",
    "        self.num_classes = num_classes\n",
    "        self.conv_layer = nn.Sequential(\n",
    "            #(batch_size,3,224,224) --> (batch_size,64,224,224)\n",
    "            nn.Conv2d(in_channels=self.in_channels,out_channels=64,kernel_size=3,padding=1),\n",
    "            nn.ReLU(),\n",
    "            #(batch_size,64,224,224) --> (batch_size,64,224,224)\n",
    "            nn.Conv2d(in_channels=64,out_channels=64,kernel_size=3,padding=1),\n",
    "            nn.ReLU(),\n",
    "            #(batch_size,64,224,224) --> (batch_size,64,112,112)\n",
    "            nn.MaxPool2d(kernel_size=2,stride=2),\n",
    "            #(batch_size,64,112,112) --> (batch_size,128,112,112)\n",
    "            nn.Conv2d(in_channels=64,out_channels=128,kernel_size=3,padding=1),\n",
    "            nn.ReLU(),\n",
    "            #(batch_size,128,112,112) --> (batch_size,128,112,112)\n",
    "            nn.Conv2d(in_channels=128,out_channels=128,kernel_size=3,padding=1),\n",
    "            nn.ReLU(),\n",
    "            #(batch_size,128,112,112) --> (batch_size,128,56,56)\n",
    "            nn.MaxPool2d(kernel_size=2,stride=2),\n",
    "            #(batch_size,128,56,56) --> (batch_size,256,56,56)\n",
    "            nn.Conv2d(in_channels=128,out_channels=256,kernel_size=3,padding=1),\n",
    "            nn.ReLU(),\n",
    "            #(batch_size,256,56,56) --> (batch_size,256,56,56)\n",
    "            nn.Conv2d(in_channels=256,out_channels=256,kernel_size=3,padding=1),\n",
    "            nn.ReLU(),\n",
    "            #(batch_size,256,56,56) --> (batch_size,256,28,28)\n",
    "            nn.MaxPool2d(kernel_size=2,stride=2),\n",
    "            #(batch_size,256,28,28) --> (batch_size,512,28,28)\n",
    "            nn.Conv2d(in_channels=256,out_channels=512,kernel_size=3,padding=1),\n",
    "            nn.ReLU(),\n",
    "            #(batch_size,512,28,28) --> (batch_size,512,28,28)\n",
    "            nn.Conv2d(in_channels=512,out_channels=512,kernel_size=3,padding=1),\n",
    "            nn.ReLU(),\n",
    "            #(batch_size,512,28,28) --> (batch_size,512,14,14)\n",
    "            nn.MaxPool2d(kernel_size=2,stride=2),\n",
    "            #(batch_size,512,14,14) --> (batch_size,512,14,14)\n",
    "            nn.Conv2d(in_channels=512,out_channels=512,kernel_size=3,padding=1),\n",
    "            nn.ReLU(),\n",
    "            #(batch_size,512,14,14) --> (batch_size,512,14,14)\n",
    "            nn.Conv2d(in_channels=512,out_channels=512,kernel_size=3,padding=1),\n",
    "            nn.ReLU(),\n",
    "            #(batch_size,512,14,14) --> (batch_size,512,7,7)\n",
    "            nn.MaxPool2d(kernel_size=2,stride=2)\n",
    "        )\n",
    "        self.linear_layers = nn.Sequential(\n",
    "            nn.Linear(512*1*1,4096),\n",
    "            nn.ReLU(),\n",
    "            nn.Dropout2d(0.5),\n",
    "            nn.Linear(4096,4096),\n",
    "            nn.ReLU(),\n",
    "            nn.Dropout2d(0.5),\n",
    "            nn.Linear(4096,self.num_classes)\n",
    "        )\n",
    "    def forward(self,x):\n",
    "        #(batch_size,3,224,224) --> (batch_size,512,7,7)\n",
    "        conv = self.conv_layer(x)\n",
    "        #(batch_size,512,7,7) --> (batch_size,1000)\n",
    "        conv = conv.view(conv.size(0),-1)\n",
    "        conv = self.linear_layers(conv)\n",
    "        return conv"
   ]
  },
  {
   "cell_type": "code",
   "execution_count": 18,
   "metadata": {},
   "outputs": [
    {
     "name": "stdout",
     "output_type": "stream",
     "text": [
      "[INFO]: 133,047,848 total parameters.\n"
     ]
    }
   ],
   "source": [
    "model = VGG11_configucration_B(in_channels=3)\n",
    "total_params = sum(p.numel() for p in model.parameters())\n",
    "print(f\"[INFO]: {total_params:,} total parameters.\")"
   ]
  },
  {
   "cell_type": "markdown",
   "metadata": {},
   "source": [
    "# ConvNet Configuration C"
   ]
  },
  {
   "cell_type": "code",
   "execution_count": 19,
   "metadata": {},
   "outputs": [],
   "source": [
    "class VGG_11_configuration_C(nn.Module):\n",
    "    def __init__(self,in_channels,num_classes=1000):\n",
    "        super(VGG_11_configuration_C,self).__init__()\n",
    "        self.in_channels = in_channels\n",
    "        self.num_classes = num_classes\n",
    "        self.conv_layers = nn.Sequential(\n",
    "            #(batch_size,3,224,224) --> (batch_size,64,224,224)\n",
    "            nn.Conv2d(in_channels=self.in_channels,out_channels=64,kernel_size=3,padding=1),\n",
    "            nn.ReLU(),\n",
    "            #(batch_size,64,224,224) --> (batch_size,64,224,224)\n",
    "            nn.Conv2d(in_channels=64,out_channels=64,kernel_size=3,padding=1),\n",
    "            nn.ReLU(),\n",
    "            #(batch_size,64,224,224) --> (batch_size,64,112,112)\n",
    "            nn.MaxPool2d(kernel_size=2,stride=2),\n",
    "            #(batch_size,64,112,112) --> (batch_size,128,112,112)\n",
    "            nn.Conv2d(in_channels=64,out_channels=128,kernel_size=3,padding=1),\n",
    "            nn.ReLU(),\n",
    "            #(batch_size,128,112,112) --> (batch_size,128,112,112)\n",
    "            nn.Conv2d(in_channels=128,out_channels=128,kernel_size=3,padding=1),\n",
    "            nn.ReLU(),\n",
    "            #(batch_size,128,112,112) --> (batch_size,128,56,56)\n",
    "            nn.MaxPool2d(kernel_size=2,stride=2),\n",
    "            #(batch_size,128,56,56) --> (batch_size,256,56,56)\n",
    "            nn.Conv2d(in_channels=128,out_channels=256,kernel_size=3,padding=1),\n",
    "            nn.ReLU(),\n",
    "            #(batch_size,256,56,56) --> (batch_size,256,56,56)\n",
    "            nn.Conv2d(in_channels=256,out_channels=256,kernel_size=3,padding=1),\n",
    "            nn.ReLU(),\n",
    "            #(batch_size,256,56,56) --> (batch_size,256,56,56)\n",
    "            nn.Conv2d(in_channels=256,out_channels=256,kernel_size=1),\n",
    "            nn.ReLU(),\n",
    "            #(batch_size,256,56,56) --> (batch_size,256,28,28)\n",
    "            nn.MaxPool2d(kernel_size=2,stride=2),\n",
    "            #(batch_size,256,28,28) --> (batch_size,512,28,28)\n",
    "            nn.Conv2d(in_channels=256,out_channels=512,kernel_size=3,padding=1),\n",
    "            nn.ReLU(),\n",
    "            #(batch_size,512,28,28) --> (batch_size,512,28,28)\n",
    "            nn.Conv2d(in_channels=512,out_channels=512,kernel_size=3,padding=1),\n",
    "            nn.ReLU(),\n",
    "            #(batch_size,512,28,28) --> (batch_size,512,28,28)\n",
    "            nn.Conv2d(in_channels=512,out_channels=512,kernel_size=1),\n",
    "            nn.ReLU(),\n",
    "            #(batch_size,512,28,28) --> (batch_size,512,14,14)\n",
    "            nn.MaxPool2d(kernel_size=2,stride=2),\n",
    "            #(batch_size,512,14,14) --> (batch_size,512,14,14)\n",
    "            nn.Conv2d(in_channels=512,out_channels=512,kernel_size=3,padding=1),\n",
    "            nn.ReLU(),\n",
    "            #(batch_size,512,14,14) --> (batch_size,512,14,14)\n",
    "            nn.Conv2d(in_channels=512,out_channels=512,kernel_size=3,padding=1),\n",
    "            nn.ReLU(),\n",
    "            #(batch_size,512,14,14) --> (batch_size,512,14,14)\n",
    "            nn.Conv2d(in_channels=512,out_channels=512,kernel_size=1),\n",
    "            nn.ReLU(),\n",
    "            #(batch_size,512,14,14) --> (batch_size,512,7,7)\n",
    "            nn.MaxPool2d(kernel_size=2,stride=2)\n",
    "        )\n",
    "        self.linear_layers = nn.Sequential(\n",
    "            nn.Linear(512*1*1,4096),\n",
    "            nn.ReLU(),\n",
    "            nn.Dropout2d(0.5),\n",
    "            nn.Linear(4096,4096),\n",
    "            nn.ReLU(),\n",
    "            nn.Dropout2d(0.5),\n",
    "            nn.Linear(4096,self.num_classes)\n",
    "        )\n",
    "    def forward(self,x):\n",
    "        #(batch_size,3,224,224) --> (batch_size,512,7,7)\n",
    "        conv = self.conv_layers(x)\n",
    "        #(batch_size,512,7,7) --> (batch_size,1000)\n",
    "        conv = conv.view(conv.size(0),-1)\n",
    "        conv = self.linear_layers(conv)\n",
    "        return conv"
   ]
  },
  {
   "cell_type": "code",
   "execution_count": 20,
   "metadata": {},
   "outputs": [
    {
     "name": "stdout",
     "output_type": "stream",
     "text": [
      "[INFO]: 133,638,952 total parameters.\n"
     ]
    }
   ],
   "source": [
    "model = VGG_11_configuration_C(in_channels=3)\n",
    "total_params = sum(p.numel() for p in model.parameters())\n",
    "print(f\"[INFO]: {total_params:,} total parameters.\")"
   ]
  },
  {
   "cell_type": "markdown",
   "metadata": {},
   "source": [
    "# ConvNet configuration D"
   ]
  },
  {
   "cell_type": "code",
   "execution_count": 21,
   "metadata": {},
   "outputs": [],
   "source": [
    "class VGG11_configucration_D(nn.Module):\n",
    "    def __init__(self,in_channels,num_classes=1000):\n",
    "        super(VGG11_configucration_D,self).__init__()\n",
    "        self.in_channels = in_channels\n",
    "        self.num_classes = num_classes\n",
    "        self.conv_layers = nn.Sequential(\n",
    "            #(batch_size,3,224,224) --> (batch_size,64,224,224)\n",
    "            nn.Conv2d(in_channels=self.in_channels,out_channels=64,kernel_size=3,padding=1),\n",
    "            nn.ReLU(),\n",
    "            #(batch_size,64,224,224) --> (batch_size,64,224,224)\n",
    "            nn.Conv2d(in_channels=64,out_channels=64,kernel_size=3,padding=1),\n",
    "            nn.ReLU(),\n",
    "            #(batch_size,64,224,224) --> (batch_size,64,112,112)\n",
    "            nn.MaxPool2d(kernel_size=2,stride=2),\n",
    "            #(batch_size,64,112,112) --> (batch_size,128,112,112)\n",
    "            nn.Conv2d(in_channels=64,out_channels=128,kernel_size=3,padding=1),\n",
    "            nn.ReLU(),\n",
    "            #(batch_size,128,112,112) --> (batch_size,128,112,112)\n",
    "            nn.Conv2d(in_channels=128,out_channels=128,kernel_size=3,padding=1),\n",
    "            nn.ReLU(),\n",
    "            #(batch_size,128,112,112) --> (batch_size,128,56,56)\n",
    "            nn.MaxPool2d(kernel_size=2,stride=2),\n",
    "            #(batch_size,128,56,56) --> (batch_size,256,56,56)\n",
    "            nn.Conv2d(in_channels=128,out_channels=256,kernel_size=3,padding=1),\n",
    "            nn.ReLU(),\n",
    "            #(batch_size,256,56,56) --> (batch_size,256,56,56)\n",
    "            nn.Conv2d(in_channels=256,out_channels=256,kernel_size=3,padding=1),\n",
    "            nn.ReLU(),\n",
    "            #(batch_size,256,56,56) --> (batch_size,256,56,56)\n",
    "            nn.Conv2d(in_channels=256,out_channels=256,kernel_size=3,padding=1),\n",
    "            nn.ReLU(),\n",
    "            #(batch_size,256,56,56) --> (batch_size,256,28,28)\n",
    "            nn.MaxPool2d(kernel_size=2,stride=2),\n",
    "            #(batch_size,256,28,28) --> (batch_size,512,28,28)\n",
    "            nn.Conv2d(in_channels=256,out_channels=512,kernel_size=3,padding=1),\n",
    "            nn.ReLU(),\n",
    "            #(batch_size,512,28,28) --> (batch_size,512,28,28)\n",
    "            nn.Conv2d(in_channels=512,out_channels=512,kernel_size=3,padding=1),\n",
    "            nn.ReLU(),\n",
    "            #(batch_size,512,28,28) --> (batch_size,512,28,28)\n",
    "            nn.Conv2d(in_channels=512,out_channels=512,kernel_size=3,padding=1),\n",
    "            nn.ReLU(),\n",
    "            #(batch_size,512,28,28) --> (batch_size,512,14,14)\n",
    "            nn.MaxPool2d(kernel_size=2,stride=2),\n",
    "            #(batch_size,512,14,14) --> (batch_size,512,14,14)\n",
    "            nn.Conv2d(in_channels=512,out_channels=512,kernel_size=3,padding=1),\n",
    "            nn.ReLU(),\n",
    "            #(batch_size,512,14,14) --> (batch_size,512,14,14)\n",
    "            nn.Conv2d(in_channels=512,out_channels=512,kernel_size=3,padding=1),\n",
    "            nn.ReLU(),\n",
    "            #(batch_size,512,14,14) --> (batch_size,512,14,14)\n",
    "            nn.Conv2d(in_channels=512,out_channels=512,kernel_size=3,padding=1),\n",
    "            nn.ReLU(),\n",
    "            #(batch_size,512,14,14) --> (batch_size,512,7,7)\n",
    "            nn.MaxPool2d(kernel_size=2,stride=2)\n",
    "        )\n",
    "        self.linear_layers = nn.Sequential(\n",
    "            nn.Linear(512*1*1,4096),\n",
    "            nn.ReLU(),\n",
    "            nn.Dropout2d(0.5),\n",
    "            nn.Linear(4096,4096),\n",
    "            nn.ReLU(),\n",
    "            nn.Dropout2d(0.5),\n",
    "            nn.Linear(4096,self.num_classes)\n",
    "        )\n",
    "    def forward(self,x):\n",
    "        #(batch_size,3,224,224) --> (batch_size,512,7,7)\n",
    "        conv = self.conv_layers(x)\n",
    "        #(batch_size,512,7,7) --> (batch_size,1000)\n",
    "        conv = conv.view(conv.size(0),-1)\n",
    "        conv = self.linear_layers(conv)\n",
    "        return conv"
   ]
  },
  {
   "cell_type": "code",
   "execution_count": 22,
   "metadata": {},
   "outputs": [
    {
     "name": "stdout",
     "output_type": "stream",
     "text": [
      "[INFO]: 138,357,544 total parameters.\n"
     ]
    }
   ],
   "source": [
    "model = VGG11_configucration_D(in_channels=3)\n",
    "total_params = sum(p.numel() for p in model.parameters())\n",
    "print(f\"[INFO]: {total_params:,} total parameters.\")"
   ]
  },
  {
   "cell_type": "markdown",
   "metadata": {},
   "source": [
    "# ConvNet configuration E"
   ]
  },
  {
   "cell_type": "code",
   "execution_count": 23,
   "metadata": {},
   "outputs": [],
   "source": [
    "class VGG11_configucration_E(nn.Module):\n",
    "    def __init__(self,in_channels,num_classes=1000):\n",
    "        super(VGG11_configucration_E,self).__init__()\n",
    "        self.in_channels = in_channels\n",
    "        self.num_classes = num_classes\n",
    "        self.conv_layers = nn.Sequential(\n",
    "            #(batch_size,3,224,224) --> (batch_size,64,224,224)\n",
    "            nn.Conv2d(in_channels=self.in_channels,out_channels=64,kernel_size=3,padding=1),\n",
    "            nn.ReLU(),\n",
    "            #(batch_size,64,224,224) --> (batch_size,64,224,224)\n",
    "            nn.Conv2d(in_channels=64,out_channels=64,kernel_size=3,padding=1),\n",
    "            nn.ReLU(),\n",
    "            #(batch_size,64,224,224) --> (batch_size,64,112,112)\n",
    "            nn.MaxPool2d(kernel_size=2,stride=2),\n",
    "            #(batch_size,64,112,112) --> (batch_size,128,112,112)\n",
    "            nn.Conv2d(in_channels=64,out_channels=128,kernel_size=3,padding=1),\n",
    "            nn.ReLU(),\n",
    "            #(batch_size,128,112,112) --> (batch_size,128,112,112)\n",
    "            nn.Conv2d(in_channels=128,out_channels=128,kernel_size=3,padding=1),\n",
    "            nn.ReLU(),\n",
    "            #(batch_size,128,112,112) --> (batch_size,128,56,56)\n",
    "            nn.MaxPool2d(kernel_size=2,stride=2),\n",
    "            #(batch_size,128,56,56) --> (batch_size,256,56,56)\n",
    "            nn.Conv2d(in_channels=128,out_channels=256,kernel_size=3,padding=1),\n",
    "            nn.ReLU(),\n",
    "            #(batch_size,256,56,56) --> (batch_size,256,56,56)\n",
    "            nn.Conv2d(in_channels=256,out_channels=256,kernel_size=3,padding=1),\n",
    "            nn.ReLU(),\n",
    "            #(batch_size,256,56,56) --> (batch_size,256,56,56)\n",
    "            nn.Conv2d(in_channels=256,out_channels=256,kernel_size=3,padding=1),\n",
    "            nn.ReLU(),\n",
    "            #(batch_size,256,56,56) --> (batch_size,256,56,56)\n",
    "            nn.Conv2d(in_channels=256,out_channels=256,kernel_size=3,padding=1),\n",
    "            nn.ReLU(),\n",
    "            #(batch_size,256,56,56) --> (batch_size,256,28,28)\n",
    "            nn.MaxPool2d(kernel_size=2,stride=2),\n",
    "            #(batch_size,256,28,28) --> (batch_size,512,28,28)\n",
    "            nn.Conv2d(in_channels=256,out_channels=512,kernel_size=3,padding=1),\n",
    "            nn.ReLU(),\n",
    "            #(batch_size,512,28,28) --> (batch_size,512,28,28)\n",
    "            nn.Conv2d(in_channels=512,out_channels=512,kernel_size=3,padding=1),\n",
    "            nn.ReLU(),\n",
    "            #(batch_size,512,28,28) --> (batch_size,512,28,28)\n",
    "            nn.Conv2d(in_channels=512,out_channels=512,kernel_size=3,padding=1),\n",
    "            nn.ReLU(),\n",
    "            #(batch_size,512,28,28) --> (batch_size,512,28,28)\n",
    "            nn.Conv2d(in_channels=512,out_channels=512,kernel_size=3,padding=1),\n",
    "            nn.ReLU(),\n",
    "            #(batch_size,512,28,28) --> (batch_size,512,14,14)\n",
    "            nn.MaxPool2d(kernel_size=2,stride=2),\n",
    "            #(batch_size,512,14,14) --> (batch_size,512,14,14)\n",
    "            nn.Conv2d(in_channels=512,out_channels=512,kernel_size=3,padding=1),\n",
    "            nn.ReLU(),\n",
    "            #(batch_size,512,14,14) --> (batch_size,512,14,14)\n",
    "            nn.Conv2d(in_channels=512,out_channels=512,kernel_size=3,padding=1),\n",
    "            nn.ReLU(),\n",
    "            #(batch_size,512,14,14) --> (batch_size,512,14,14)\n",
    "            nn.Conv2d(in_channels=512,out_channels=512,kernel_size=3,padding=1),\n",
    "            nn.ReLU(),\n",
    "            #(batch_size,512,14,14) --> (batch_size,512,14,14)\n",
    "            nn.Conv2d(in_channels=512,out_channels=512,kernel_size=3,padding=1),\n",
    "            nn.ReLU(),\n",
    "            #(batch_size,512,14,14) --> (batch_size,512,7,7)\n",
    "            nn.MaxPool2d(kernel_size=2,stride=2)\n",
    "        )\n",
    "        self.linear_layers = nn.Sequential(\n",
    "            nn.Linear(512*1*1,4096),\n",
    "            nn.ReLU(),\n",
    "            nn.Dropout2d(0.5),\n",
    "            nn.Linear(4096,4096),\n",
    "            nn.ReLU(),\n",
    "            nn.Dropout2d(0.5),\n",
    "            nn.Linear(4096,self.num_classes)\n",
    "        )\n",
    "    def forward(self,x):\n",
    "        #(batch_size,3,224,224) --> (batch_size,512,7,7)\n",
    "        conv = self.conv_layers(x)\n",
    "        #(batch_size,512,7,7) --> (batch_size,1000)\n",
    "        conv = conv.view(conv.size(0),-1)\n",
    "        conv = self.linear_layers(conv)\n",
    "        return conv"
   ]
  },
  {
   "cell_type": "code",
   "execution_count": 24,
   "metadata": {},
   "outputs": [
    {
     "name": "stdout",
     "output_type": "stream",
     "text": [
      "[INFO]: 143,667,240 total parameters.\n"
     ]
    }
   ],
   "source": [
    "model = VGG11_configucration_E(in_channels=3)\n",
    "total_params = sum(p.numel() for p in model.parameters())\n",
    "print(f\"[INFO]: {total_params:,} total parameters.\")"
   ]
  },
  {
   "cell_type": "code",
   "execution_count": null,
   "metadata": {},
   "outputs": [],
   "source": []
  }
 ],
 "metadata": {
  "kernelspec": {
   "display_name": "Python 3.9.12 ('base')",
   "language": "python",
   "name": "python3"
  },
  "language_info": {
   "codemirror_mode": {
    "name": "ipython",
    "version": 3
   },
   "file_extension": ".py",
   "mimetype": "text/x-python",
   "name": "python",
   "nbconvert_exporter": "python",
   "pygments_lexer": "ipython3",
   "version": "3.9.12"
  },
  "vscode": {
   "interpreter": {
    "hash": "162b6b064e165ad366d1bd4cdc631c4691b039cb551eb2d47403b16e997dbe09"
   }
  }
 },
 "nbformat": 4,
 "nbformat_minor": 2
}
