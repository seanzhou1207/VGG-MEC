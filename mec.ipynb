{
 "cells": [
  {
   "cell_type": "code",
   "execution_count": 1,
   "metadata": {},
   "outputs": [],
   "source": [
    "import torch\n",
    "import torch.nn as nn\n",
    "\n",
    "from torchvision import datasets, transforms\n",
    "\n",
    "import numpy as np"
   ]
  },
  {
   "cell_type": "code",
   "execution_count": 2,
   "metadata": {},
   "outputs": [],
   "source": [
    "def get_mec_data(img_tensor):\n",
    "    \"\"\"\n",
    "    Calculate the information capacity of a dataset with black and white images\n",
    "    \"\"\"\n",
    "    n_img, n_row, n_col = img_tensor.shape\n",
    "\n",
    "    info = n_img * n_row * n_col    # Assume 1 bit per pixel\n",
    "\n",
    "    return info\n",
    "\n",
    "def get_mec_ffnn(layer_ffnn: nn.Sequential):\n",
    "    \"\"\"\n",
    "    Get MEC of last feed forward neural net layer\n",
    "    \"\"\"\n",
    "    mec_layer = []\n",
    "\n",
    "    for layer in layer_ffnn:\n",
    "        if isinstance(layer, nn.Linear):\n",
    "            print(\"The linear layers are: \")\n",
    "            print(layer)\n",
    "            dim_in = layer.in_features\n",
    "            dim_out = layer.out_features\n",
    "            print(dim_in, dim_out)\n",
    "            #if layer.bias:\n",
    "            if mec_layer == []:\n",
    "                mec = (dim_in + 1) * dim_out\n",
    "                mec_layer.append(mec)\n",
    "            else: \n",
    "                #print((dim_in + 1) * dim_out)\n",
    "                mec = min(dim_in, (dim_in + 1) * dim_out)\n",
    "                mec_layer.append(mec)\n",
    "    mec_total = np.sum(mec_layer)\n",
    "\n",
    "    return mec_total\n",
    "    "
   ]
  },
  {
   "cell_type": "code",
   "execution_count": 3,
   "metadata": {},
   "outputs": [
    {
     "data": {
      "text/plain": [
       "47040000"
      ]
     },
     "execution_count": 3,
     "metadata": {},
     "output_type": "execute_result"
    }
   ],
   "source": [
    "# Load the MNIST dataset\n",
    "transform = transforms.Compose([transforms.Pad(2),\n",
    "                                    transforms.ToTensor(),\n",
    "                                    transforms.Normalize((0.5,), (0.5,))])\n",
    "\n",
    "trainset = datasets.MNIST('~/.pytorch/MNIST_data/', download=True, train=True, transform=transform)\n",
    "img_tensor = trainset.data\n",
    "\n",
    "get_mec_data(img_tensor)"
   ]
  },
  {
   "cell_type": "code",
   "execution_count": 4,
   "metadata": {},
   "outputs": [
    {
     "name": "stdout",
     "output_type": "stream",
     "text": [
      "torch.Size([64, 1, 32, 32])\n"
     ]
    }
   ],
   "source": [
    "trainloader = torch.utils.data.DataLoader(trainset, batch_size=64, shuffle=True)\n",
    "for data in trainloader:\n",
    "    print(data[0].shape)\n",
    "    break"
   ]
  },
  {
   "cell_type": "code",
   "execution_count": 5,
   "metadata": {},
   "outputs": [
    {
     "name": "stdout",
     "output_type": "stream",
     "text": [
      "The linear layers are: \n",
      "Linear(in_features=512, out_features=4096, bias=True)\n",
      "512 4096\n",
      "The linear layers are: \n",
      "Linear(in_features=4096, out_features=4096, bias=True)\n",
      "4096 4096\n",
      "The linear layers are: \n",
      "Linear(in_features=4096, out_features=10, bias=True)\n",
      "4096 10\n"
     ]
    },
    {
     "data": {
      "text/plain": [
       "2109440"
      ]
     },
     "execution_count": 5,
     "metadata": {},
     "output_type": "execute_result"
    }
   ],
   "source": [
    "ffnn = nn.Sequential(\n",
    "            nn.Linear(512*1*1,4096),\n",
    "            nn.ReLU(),\n",
    "            nn.Dropout2d(0.5),\n",
    "            nn.Linear(4096,4096),\n",
    "            nn.ReLU(),\n",
    "            nn.Dropout2d(0.5),\n",
    "            nn.Linear(4096,10)\n",
    "        )\n",
    "\n",
    "get_mec_ffnn(ffnn)"
   ]
  },
  {
   "cell_type": "code",
   "execution_count": 6,
   "metadata": {},
   "outputs": [],
   "source": [
    "def get_compression(dim_in, dim_out):\n",
    "    \"\"\"\n",
    "    Get compression ratio of convolution layer\n",
    "    \"\"\"\n",
    "    comp_ratio = round(dim_in/dim_out, 2)\n",
    "\n",
    "    print(f\"Compression ratio of convolution layer: {comp_ratio} : 1\")\n",
    "    return comp_ratio\n"
   ]
  },
  {
   "cell_type": "code",
   "execution_count": 7,
   "metadata": {},
   "outputs": [
    {
     "data": {
      "text/plain": [
       "torch.Size([60000, 28, 28])"
      ]
     },
     "execution_count": 7,
     "metadata": {},
     "output_type": "execute_result"
    }
   ],
   "source": [
    "transform = transforms.Compose([transforms.Pad(2),\n",
    "                                transforms.ToTensor(),\n",
    "                                transforms.Normalize((0.5,), (0.5,))])\n",
    "trainset = datasets.MNIST('~/.pytorch/MNIST_data/', download=True, train=True, transform=transform)\n",
    "trainset.data.shape"
   ]
  },
  {
   "cell_type": "code",
   "execution_count": 18,
   "metadata": {},
   "outputs": [],
   "source": [
    "# Get Generalization then resilience (def 6.4)\n",
    "trainset\n",
    "labels = [label for _, label in trainset]\n",
    "\n",
    "# GPT Code\n",
    "def calculate_class_probabilities(labels):\n",
    "    # Count the occurrences of each unique class\n",
    "    unique_classes, counts = np.unique(labels, return_counts=True)\n",
    "    \n",
    "    # Calculate probabilities by dividing counts by the total number of labels\n",
    "    probabilities = counts / len(labels)\n",
    "    \n",
    "    # Combine class labels with their corresponding probabilities\n",
    "    class_probabilities = dict(zip(unique_classes, probabilities))\n",
    "    \n",
    "    return class_probabilities\n",
    "\n",
    "p_dict = calculate_class_probabilities(labels)\n",
    "ps = [p_dict[i] for i in p_dict.keys()]\n",
    "\n",
    "ks = []"
   ]
  },
  {
   "cell_type": "code",
   "execution_count": 19,
   "metadata": {},
   "outputs": [
    {
     "data": {
      "text/plain": [
       "[0.09871666666666666,\n",
       " 0.11236666666666667,\n",
       " 0.0993,\n",
       " 0.10218333333333333,\n",
       " 0.09736666666666667,\n",
       " 0.09035,\n",
       " 0.09863333333333334,\n",
       " 0.10441666666666667,\n",
       " 0.09751666666666667,\n",
       " 0.09915]"
      ]
     },
     "execution_count": 19,
     "metadata": {},
     "output_type": "execute_result"
    }
   ],
   "source": []
  },
  {
   "cell_type": "code",
   "execution_count": null,
   "metadata": {},
   "outputs": [],
   "source": []
  }
 ],
 "metadata": {
  "kernelspec": {
   "display_name": "Python 3.9.12 ('base')",
   "language": "python",
   "name": "python3"
  },
  "language_info": {
   "codemirror_mode": {
    "name": "ipython",
    "version": 3
   },
   "file_extension": ".py",
   "mimetype": "text/x-python",
   "name": "python",
   "nbconvert_exporter": "python",
   "pygments_lexer": "ipython3",
   "version": "3.9.12"
  },
  "orig_nbformat": 4,
  "vscode": {
   "interpreter": {
    "hash": "162b6b064e165ad366d1bd4cdc631c4691b039cb551eb2d47403b16e997dbe09"
   }
  }
 },
 "nbformat": 4,
 "nbformat_minor": 2
}
